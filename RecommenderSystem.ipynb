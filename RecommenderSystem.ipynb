{
 "cells": [
  {
   "cell_type": "code",
   "execution_count": 139,
   "id": "8d9a2f98-c011-490e-9f35-f2d95444ee76",
   "metadata": {},
   "outputs": [],
   "source": [
    "import os"
   ]
  },
  {
   "cell_type": "code",
   "execution_count": 140,
   "id": "c74c5a55-42b5-407d-a469-b6776e24bfff",
   "metadata": {},
   "outputs": [
    {
     "data": {
      "text/plain": [
       "'C:\\\\Users\\\\HP\\\\tejasri'"
      ]
     },
     "execution_count": 140,
     "metadata": {},
     "output_type": "execute_result"
    }
   ],
   "source": [
    "os.getcwd()\n"
   ]
  },
  {
   "cell_type": "code",
   "execution_count": 141,
   "id": "f5c02b25-09e8-417b-9f95-7a9f971dacb2",
   "metadata": {},
   "outputs": [],
   "source": [
    "import numpy as np                                         \n",
    "import pandas as pd                                         \n",
    "from sklearn.feature_extraction import text                 \n",
    "from sklearn.metrics.pairwise import cosine_similarity      "
   ]
  },
  {
   "cell_type": "code",
   "execution_count": 142,
   "id": "711f998f-f1b5-4d4a-938f-ea49d547970e",
   "metadata": {},
   "outputs": [
    {
     "name": "stdout",
     "output_type": "stream",
     "text": [
      "Title           0\n",
      "Description     0\n",
      "Content Type    0\n",
      "Genres          0\n",
      "dtype: int64\n"
     ]
    }
   ],
   "source": [
    "print(data.isnull().sum())          #identify missing values"
   ]
  },
  {
   "cell_type": "code",
   "execution_count": 143,
   "id": "34cc4a02-37f0-4745-b5d0-4e0bb8a707d0",
   "metadata": {},
   "outputs": [],
   "source": [
    "data=data[[\"Title\",\"Description\",\"Content Type\",\"Genres\"]]   #selecting the relavant columns"
   ]
  },
  {
   "cell_type": "code",
   "execution_count": 144,
   "id": "7201cf8a-8c73-46e2-a88d-327f54988337",
   "metadata": {},
   "outputs": [
    {
     "data": {
      "text/html": [
       "<div>\n",
       "<style scoped>\n",
       "    .dataframe tbody tr th:only-of-type {\n",
       "        vertical-align: middle;\n",
       "    }\n",
       "\n",
       "    .dataframe tbody tr th {\n",
       "        vertical-align: top;\n",
       "    }\n",
       "\n",
       "    .dataframe thead th {\n",
       "        text-align: right;\n",
       "    }\n",
       "</style>\n",
       "<table border=\"1\" class=\"dataframe\">\n",
       "  <thead>\n",
       "    <tr style=\"text-align: right;\">\n",
       "      <th></th>\n",
       "      <th>Title</th>\n",
       "      <th>Description</th>\n",
       "      <th>Content Type</th>\n",
       "      <th>Genres</th>\n",
       "    </tr>\n",
       "  </thead>\n",
       "  <tbody>\n",
       "  </tbody>\n",
       "</table>\n",
       "</div>"
      ],
      "text/plain": [
       "Empty DataFrame\n",
       "Columns: [Title, Description, Content Type, Genres]\n",
       "Index: []"
      ]
     },
     "execution_count": 144,
     "metadata": {},
     "output_type": "execute_result"
    }
   ],
   "source": [
    "data.head()\n"
   ]
  },
  {
   "cell_type": "code",
   "execution_count": 145,
   "id": "ca3afb3e-3ea4-42bc-843f-fc28f8835901",
   "metadata": {},
   "outputs": [
    {
     "name": "stdout",
     "output_type": "stream",
     "text": [
      "0                         (un)well\n",
      "1                           #alive\n",
      "2    #annefrank - parallel stories\n",
      "3                         #blackaf\n",
      "4                 #cats_the_mewvie\n",
      "Name: Title, dtype: object\n"
     ]
    }
   ],
   "source": [
    "titles = df['Title']  \n",
    "print(titles.head())  "
   ]
  },
  {
   "cell_type": "code",
   "execution_count": 146,
   "id": "06289429-4ecc-4317-9d5d-6362a32af700",
   "metadata": {},
   "outputs": [
    {
     "data": {
      "text/html": [
       "<div>\n",
       "<style scoped>\n",
       "    .dataframe tbody tr th:only-of-type {\n",
       "        vertical-align: middle;\n",
       "    }\n",
       "\n",
       "    .dataframe tbody tr th {\n",
       "        vertical-align: top;\n",
       "    }\n",
       "\n",
       "    .dataframe thead th {\n",
       "        text-align: right;\n",
       "    }\n",
       "</style>\n",
       "<table border=\"1\" class=\"dataframe\">\n",
       "  <thead>\n",
       "    <tr style=\"text-align: right;\">\n",
       "      <th></th>\n",
       "      <th>Title</th>\n",
       "      <th>Description</th>\n",
       "      <th>Content Type</th>\n",
       "      <th>Genres</th>\n",
       "    </tr>\n",
       "  </thead>\n",
       "  <tbody>\n",
       "  </tbody>\n",
       "</table>\n",
       "</div>"
      ],
      "text/plain": [
       "Empty DataFrame\n",
       "Columns: [Title, Description, Content Type, Genres]\n",
       "Index: []"
      ]
     },
     "execution_count": 146,
     "metadata": {},
     "output_type": "execute_result"
    }
   ],
   "source": [
    "data=data.dropna()\n",
    "data"
   ]
  },
  {
   "cell_type": "code",
   "execution_count": 147,
   "id": "4e38e736-c7b0-4e35-ba1d-bfe7b8e2d216",
   "metadata": {},
   "outputs": [
    {
     "name": "stderr",
     "output_type": "stream",
     "text": [
      "[nltk_data] Downloading package stopwords to\n",
      "[nltk_data]     C:\\Users\\HP\\AppData\\Roaming\\nltk_data...\n",
      "[nltk_data]   Package stopwords is already up-to-date!\n"
     ]
    }
   ],
   "source": [
    "import nltk\n",
    "import re\n",
    "nltk.download('stopwords')\n",
    "stemmer=nltk.SnowballStemmer(\"english\")\n",
    "from nltk.corpus import stopwords\n",
    "import string\n",
    "stopword=set(stopwords.words('english'))"
   ]
  },
  {
   "cell_type": "code",
   "execution_count": 148,
   "id": "9ef20643-140c-4104-89c4-4738f94a482c",
   "metadata": {},
   "outputs": [
    {
     "name": "stdout",
     "output_type": "stream",
     "text": [
      "Index(['Title', 'Description', 'Content Type', 'Genres'], dtype='object')\n"
     ]
    }
   ],
   "source": [
    "print(data.columns)"
   ]
  },
  {
   "cell_type": "code",
   "execution_count": 149,
   "id": "170632aa-ad06-4d41-bc80-d562d3277fb8",
   "metadata": {},
   "outputs": [
    {
     "name": "stdout",
     "output_type": "stream",
     "text": [
      "Series([], Name: Genres, dtype: object)\n"
     ]
    }
   ],
   "source": [
    "print(data.Genres)"
   ]
  },
  {
   "cell_type": "code",
   "execution_count": 150,
   "id": "341b9f96-835a-49c5-b23f-66c4b4c9bb12",
   "metadata": {},
   "outputs": [],
   "source": [
    "from sklearn.feature_extraction.text import TfidfVectorizer\n",
    "from sklearn.metrics.pairwise import cosine_similarity"
   ]
  },
  {
   "cell_type": "code",
   "execution_count": 171,
   "id": "4d1c91d4-160e-44fd-afe5-2b696de1a313",
   "metadata": {},
   "outputs": [],
   "source": [
    "file_path = 'netflixData.csv'\n",
    "df = pd.read_csv(file_path)"
   ]
  },
  {
   "cell_type": "code",
   "execution_count": 152,
   "id": "460f5922-0154-47bb-b472-1f7dc12e5928",
   "metadata": {},
   "outputs": [
    {
     "name": "stdout",
     "output_type": "stream",
     "text": [
      "                                Show Id                          Title  \\\n",
      "0  cc1b6ed9-cf9e-4057-8303-34577fb54477                       (Un)Well   \n",
      "1  e2ef4e91-fb25-42ab-b485-be8e3b23dedb                         #Alive   \n",
      "2  b01b73b7-81f6-47a7-86d8-acb63080d525  #AnneFrank - Parallel Stories   \n",
      "3  b6611af0-f53c-4a08-9ffa-9716dc57eb9c                       #blackAF   \n",
      "4  7f2d4170-bab8-4d75-adc2-197f7124c070               #cats_the_mewvie   \n",
      "\n",
      "                                         Description  \\\n",
      "0  This docuseries takes a deep dive into the luc...   \n",
      "1  As a grisly virus rampages a city, a lone man ...   \n",
      "2  Through her diary, Anne Frank's story is retol...   \n",
      "3  Kenya Barris and his family navigate relations...   \n",
      "4  This pawesome documentary explores how our fel...   \n",
      "\n",
      "                      Director  \\\n",
      "0                          NaN   \n",
      "1                       Cho Il   \n",
      "2  Sabina Fedeli, Anna Migotto   \n",
      "3                          NaN   \n",
      "4             Michael Margolis   \n",
      "\n",
      "                                           Genres  \\\n",
      "0                                      Reality TV   \n",
      "1  Horror Movies, International Movies, Thrillers   \n",
      "2             Documentaries, International Movies   \n",
      "3                                     TV Comedies   \n",
      "4             Documentaries, International Movies   \n",
      "\n",
      "                                                Cast Production Country  \\\n",
      "0                                                NaN      United States   \n",
      "1                           Yoo Ah-in, Park Shin-hye        South Korea   \n",
      "2                        Helen Mirren, Gengher Gatti              Italy   \n",
      "3  Kenya Barris, Rashida Jones, Iman Benson, Genn...      United States   \n",
      "4                                                NaN             Canada   \n",
      "\n",
      "   Release Date Rating  Duration Imdb Score Content Type         Date Added  \n",
      "0        2020.0  TV-MA  1 Season     6.6/10      TV Show                NaN  \n",
      "1        2020.0  TV-MA    99 min     6.2/10        Movie  September 8, 2020  \n",
      "2        2019.0  TV-14    95 min     6.4/10        Movie       July 1, 2020  \n",
      "3        2020.0  TV-MA  1 Season     6.6/10      TV Show                NaN  \n",
      "4        2020.0  TV-14    90 min     5.1/10        Movie   February 5, 2020  \n"
     ]
    }
   ],
   "source": [
    "print(df.head())"
   ]
  },
  {
   "cell_type": "code",
   "execution_count": 153,
   "id": "30059acb-5606-4962-b583-b6b031037a70",
   "metadata": {},
   "outputs": [],
   "source": [
    "if df['Title'].isnull().sum() > 0:\n",
    "    print(\"Warning: Some titles are missing!\")\n",
    "    df['Title'].fillna('Unknown Title', inplace=True)  # Handle missing titles\n"
   ]
  },
  {
   "cell_type": "code",
   "execution_count": 161,
   "id": "40634a8f-ebd6-477d-8ca2-4c1ff20f937e",
   "metadata": {},
   "outputs": [],
   "source": [
    "df = df.dropna(subset=['Title', 'Description', 'Genres', 'Content Type'])\n",
    "df['Title'] = df['Title'].str.lower().str.strip()"
   ]
  },
  {
   "cell_type": "code",
   "execution_count": 162,
   "id": "4685fcd6-0c7d-4fdc-b5ed-3c20d7e948a0",
   "metadata": {},
   "outputs": [],
   "source": [
    "tfidf = TfidfVectorizer(stop_words='english')\n",
    "tfidf_matrix = tfidf.fit_transform(df['Description'])\n",
    "cosine_sim = cosine_similarity(tfidf_matrix, tfidf_matrix)\n",
    "indices = pd.Series(df.index, index=df['Title']).drop_duplicates()"
   ]
  },
  {
   "cell_type": "code",
   "execution_count": 168,
   "id": "79fcea67-d00d-4293-8e28-dc848d998020",
   "metadata": {},
   "outputs": [],
   "source": [
    "def netflix_recommendation(title, similarity=cosine_sim, df=df):\n",
    "    title = title.lower().strip()\n",
    "    if title not in indices:\n",
    "        print(f\"'{title}' not found in the dataset.\")\n",
    "        return pd.DataFrame()  # Return an empty DataFrame if title is not found\n",
    "\n",
    "    index = indices[title]\n",
    "    similarity_scores = list(enumerate(similarity[index]))\n",
    "    similarity_scores = sorted(similarity_scores, key=lambda x: x[1], reverse=True)\n",
    "\n",
    "    similar_titles_indices = [i[0] for i in similarity_scores[1:11]]\n",
    "    \n",
    "    recommended_details = df.iloc[similar_titles_indices][['Title', 'Description', 'Genres', 'Content Type']]\n",
    "\n",
    "    return recommended_details"
   ]
  },
  {
   "cell_type": "code",
   "execution_count": 173,
   "id": "acd95820-f030-4b1c-adb4-d8630939bd1b",
   "metadata": {},
   "outputs": [
    {
     "name": "stdout",
     "output_type": "stream",
     "text": [
      "                      Title  \\\n",
      "606         berlin syndrome   \n",
      "5647     varane avashyamund   \n",
      "5151               the rain   \n",
      "1058             code lyoko   \n",
      "30                      1br   \n",
      "2738   little dragon maiden   \n",
      "5937              zaki chan   \n",
      "2908  main aurr mrs. khanna   \n",
      "707                  blame!   \n",
      "209                 aerials   \n",
      "\n",
      "                                            Description  \\\n",
      "606   What starts as a passionate one-night stand qu...   \n",
      "5647  At an apartment complex, the lives of a mother...   \n",
      "5151  Six years after a brutal virus wipes out most ...   \n",
      "1058  After discovering a parallel universe hidden i...   \n",
      "30    Seeking her independence, a young woman moves ...   \n",
      "2738  Seeking to improve his combat skills, a young ...   \n",
      "5937  An unqualified young man has his work cut out ...   \n",
      "2908  A financially troubled Indian man heads to Sin...   \n",
      "707   Inside a vast, self-replicating city bent on e...   \n",
      "209   Dubai residents struggle to figure out why a f...   \n",
      "\n",
      "                                                 Genres Content Type  \n",
      "606                     International Movies, Thrillers        Movie  \n",
      "5647             Comedies, Dramas, International Movies        Movie  \n",
      "5151    International TV Shows, TV Dramas, TV Mysteries      TV Show  \n",
      "1058                                           Kids' TV      TV Show  \n",
      "30         Horror Movies, Independent Movies, Thrillers        Movie  \n",
      "2738  Action & Adventure, International Movies, Roma...        Movie  \n",
      "5937    Comedies, International Movies, Romantic Movies        Movie  \n",
      "2908  International Movies, Music & Musicals, Romant...        Movie  \n",
      "707   Action & Adventure, Anime Features, Internatio...        Movie  \n",
      "209              International Movies, Sci-Fi & Fantasy        Movie  \n"
     ]
    }
   ],
   "source": [
    "recommendations = netflix_recommendation('#Alive')\n",
    "print(recommendations)"
   ]
  },
  {
   "cell_type": "code",
   "execution_count": 174,
   "id": "3ed3eced-b4c0-4d8e-aab4-69e0ab86502f",
   "metadata": {},
   "outputs": [
    {
     "name": "stdout",
     "output_type": "stream",
     "text": [
      "'#2selfie' not found in the dataset.\n",
      "Empty DataFrame\n",
      "Columns: []\n",
      "Index: []\n"
     ]
    }
   ],
   "source": [
    "recommendations = netflix_recommendation('#2Selfie')\n",
    "print(recommendations)"
   ]
  },
  {
   "cell_type": "code",
   "execution_count": null,
   "id": "31da2f78-7012-4954-b058-cdeb89ae4124",
   "metadata": {},
   "outputs": [],
   "source": []
  }
 ],
 "metadata": {
  "kernelspec": {
   "display_name": "Python 3 (ipykernel)",
   "language": "python",
   "name": "python3"
  },
  "language_info": {
   "codemirror_mode": {
    "name": "ipython",
    "version": 3
   },
   "file_extension": ".py",
   "mimetype": "text/x-python",
   "name": "python",
   "nbconvert_exporter": "python",
   "pygments_lexer": "ipython3",
   "version": "3.12.2"
  }
 },
 "nbformat": 4,
 "nbformat_minor": 5
}
